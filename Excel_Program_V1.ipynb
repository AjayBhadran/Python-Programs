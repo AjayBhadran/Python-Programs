{
 "cells": [
  {
   "cell_type": "code",
   "execution_count": null,
   "id": "bfc1e588",
   "metadata": {},
   "outputs": [],
   "source": [
    "import pandas as pd\n",
    "import matplotlib.pyplot as plt\n",
    "import numpy as np\n",
    "import matplotlib.dates as mdates "
   ]
  },
  {
   "cell_type": "markdown",
   "id": "022c989d",
   "metadata": {},
   "source": [
    "# Data Loading"
   ]
  },
  {
   "cell_type": "code",
   "execution_count": 2,
   "id": "ad0e0a55",
   "metadata": {},
   "outputs": [
    {
     "name": "stderr",
     "output_type": "stream",
     "text": [
      "C:\\Users\\NIO\\anaconda3\\lib\\site-packages\\openpyxl\\worksheet\\_reader.py:312: UserWarning: Unknown extension is not supported and will be removed\n",
      "  warn(msg)\n"
     ]
    }
   ],
   "source": [
    "df=pd.read_excel('toAjay.xlsx')"
   ]
  },
  {
   "cell_type": "markdown",
   "id": "05a2d567",
   "metadata": {},
   "source": [
    "# Data Sets"
   ]
  },
  {
   "cell_type": "code",
   "execution_count": 3,
   "id": "181beaad",
   "metadata": {},
   "outputs": [],
   "source": [
    "tme=df['Start (date)']\n",
    "tf=df['Total flux']\n",
    "cf=df['Corg flux']\n",
    "caf=df['CaCO3 flux ']\n",
    "opf=df['Opal flux  ']\n",
    "lf=df['Lith. Flux ']"
   ]
  },
  {
   "cell_type": "markdown",
   "id": "56e19e17",
   "metadata": {},
   "source": [
    "# Define X-axis"
   ]
  },
  {
   "cell_type": "code",
   "execution_count": 8,
   "id": "cb8a36a8",
   "metadata": {},
   "outputs": [],
   "source": [
    "mnth=['Jun',\n",
    " '',\n",
    " 'Jul',\n",
    " ' ',\n",
    " 'Aug',\n",
    " '  ',\n",
    " 'Sep',\n",
    " '   ',\n",
    " 'Oct',\n",
    " 'Nov',\n",
    " '    ',\n",
    " 'Dec',\n",
    " '      ',\n",
    " 'Jan',\n",
    " '         ',\n",
    " 'Feb',\n",
    " '            ',\n",
    " 'Mar',\n",
    " 'Apr']"
   ]
  },
  {
   "cell_type": "markdown",
   "id": "42a1891d",
   "metadata": {},
   "source": [
    "# Plots"
   ]
  },
  {
   "cell_type": "code",
   "execution_count": 7,
   "id": "d424027e",
   "metadata": {},
   "outputs": [
    {
     "data": {
      "text/plain": [
       "<matplotlib.legend.Legend at 0x1f7ffb3f190>"
      ]
     },
     "execution_count": 7,
     "metadata": {},
     "output_type": "execute_result"
    },
    {
     "data": {
      "image/png": "[encoded data removed]",
      "text/plain": [
       "<Figure size 1080x504 with 1 Axes>"
      ]
     },
     "metadata": {
      "needs_background": "light"
     },
     "output_type": "display_data"
    }
   ],
   "source": [
    "fig, ax = plt.subplots(figsize=(15,7))\n",
    "barlist=ax.bar(mnth,tf,width=1,edgecolor='red',hatch='..',fill=None,label='Total.Flux')\n",
    "def autolabel(rects):\n",
    "    for rect in rects:\n",
    "        height = rect.get_height()\n",
    "        ax.text(rect.get_x() + rect.get_width()/2., 1*height,'%d' % int(height),ha='center', va='bottom')\n",
    "autolabel(barlist)\n",
    "xbuffer = 0.5\n",
    "ax.set_xlim(-xbuffer,len(mnth)-1+xbuffer)\n",
    "ax.legend()\n"
   ]
  },
  {
   "cell_type": "code",
   "execution_count": null,
   "id": "850e7419",
   "metadata": {},
   "outputs": [],
   "source": []
  },
  {
   "cell_type": "code",
   "execution_count": null,
   "id": "438ef634",
   "metadata": {},
   "outputs": [],
   "source": []
  },
  {
   "cell_type": "code",
   "execution_count": null,
   "id": "8b117cc5",
   "metadata": {},
   "outputs": [],
   "source": []
  }
 ],
 "metadata": {
  "kernelspec": {
   "display_name": "Python 3 (ipykernel)",
   "language": "python",
   "name": "python3"
  },
  "language_info": {
   "codemirror_mode": {
    "name": "ipython",
    "version": 3
   },
   "file_extension": ".py",
   "mimetype": "text/x-python",
   "name": "python",
   "nbconvert_exporter": "python",
   "pygments_lexer": "ipython3",
   "version": "3.9.12"
  }
 },
 "nbformat": 4,
 "nbformat_minor": 5
}
